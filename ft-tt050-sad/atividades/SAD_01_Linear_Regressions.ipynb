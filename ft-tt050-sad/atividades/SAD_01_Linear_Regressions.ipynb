{
  "nbformat": 4,
  "nbformat_minor": 0,
  "metadata": {
    "colab": {
      "name": "SAD - Linear Regressions.ipynb",
      "provenance": [],
      "collapsed_sections": []
    },
    "kernelspec": {
      "name": "python3",
      "display_name": "Python 3"
    },
    "language_info": {
      "name": "python"
    }
  },
  "cells": [
    {
      "cell_type": "code",
      "metadata": {
        "id": "xUCi2y0Q_D-9",
        "colab": {
          "base_uri": "https://localhost:8080/",
          "height": 206
        },
        "outputId": "864e42c5-34e8-4228-d9ad-39a3990be32e"
      },
      "source": [
        "import numpy as np\n",
        "import pandas as pd\n",
        "import matplotlib.pyplot as plt\n",
        "#plt.rcParams['figure.figsize'] = (12.0, 9.0)\n",
        "\n",
        "# Preprocessing Input data\n",
        "data = pd.DataFrame(\n",
        "    {\n",
        "        'rooms': [5.2, 4.5, 5.4, 6, 6.5],\n",
        "        'value': [9.8, 7.3, 13.3, 16.8, 24]\n",
        "    }\n",
        ")\n",
        "data"
      ],
      "execution_count": null,
      "outputs": [
        {
          "output_type": "execute_result",
          "data": {
            "text/html": [
              "<div>\n",
              "<style scoped>\n",
              "    .dataframe tbody tr th:only-of-type {\n",
              "        vertical-align: middle;\n",
              "    }\n",
              "\n",
              "    .dataframe tbody tr th {\n",
              "        vertical-align: top;\n",
              "    }\n",
              "\n",
              "    .dataframe thead th {\n",
              "        text-align: right;\n",
              "    }\n",
              "</style>\n",
              "<table border=\"1\" class=\"dataframe\">\n",
              "  <thead>\n",
              "    <tr style=\"text-align: right;\">\n",
              "      <th></th>\n",
              "      <th>rooms</th>\n",
              "      <th>value</th>\n",
              "    </tr>\n",
              "  </thead>\n",
              "  <tbody>\n",
              "    <tr>\n",
              "      <th>0</th>\n",
              "      <td>5.2</td>\n",
              "      <td>9.8</td>\n",
              "    </tr>\n",
              "    <tr>\n",
              "      <th>1</th>\n",
              "      <td>4.5</td>\n",
              "      <td>7.3</td>\n",
              "    </tr>\n",
              "    <tr>\n",
              "      <th>2</th>\n",
              "      <td>5.4</td>\n",
              "      <td>13.3</td>\n",
              "    </tr>\n",
              "    <tr>\n",
              "      <th>3</th>\n",
              "      <td>6.0</td>\n",
              "      <td>16.8</td>\n",
              "    </tr>\n",
              "    <tr>\n",
              "      <th>4</th>\n",
              "      <td>6.5</td>\n",
              "      <td>24.0</td>\n",
              "    </tr>\n",
              "  </tbody>\n",
              "</table>\n",
              "</div>"
            ],
            "text/plain": [
              "   rooms  value\n",
              "0    5.2    9.8\n",
              "1    4.5    7.3\n",
              "2    5.4   13.3\n",
              "3    6.0   16.8\n",
              "4    6.5   24.0"
            ]
          },
          "metadata": {},
          "execution_count": 1
        }
      ]
    },
    {
      "cell_type": "code",
      "metadata": {
        "colab": {
          "base_uri": "https://localhost:8080/",
          "height": 265
        },
        "id": "5hmF7cQbkf85",
        "outputId": "a49cf336-ffcc-4dbf-cf0c-fabe71bd8f63"
      },
      "source": [
        "X = data.iloc[:, 0]\n",
        "Y = data.iloc[:, 1]\n",
        "plt.scatter(X, Y)\n",
        "plt.show()"
      ],
      "execution_count": null,
      "outputs": [
        {
          "output_type": "display_data",
          "data": {
            "image/png": "[encoded data removed]",
            "text/plain": [
              "<Figure size 432x288 with 1 Axes>"
            ]
          },
          "metadata": {
            "needs_background": "light"
          }
        }
      ]
    },
    {
      "cell_type": "markdown",
      "metadata": {
        "id": "tGvHhFmRSZco"
      },
      "source": [
        "# Exercício a Mão"
      ]
    },
    {
      "cell_type": "code",
      "metadata": {
        "id": "nGIG71jsQtlR"
      },
      "source": [
        "import seaborn as sns\n",
        "custom_params = {\"axes.spines.right\": False, \"axes.spines.top\": False}\n",
        "sns.set_theme(style=\"ticks\", rc=custom_params)"
      ],
      "execution_count": null,
      "outputs": []
    },
    {
      "cell_type": "code",
      "metadata": {
        "colab": {
          "base_uri": "https://localhost:8080/"
        },
        "id": "qj8Yip3GSa5M",
        "outputId": "a1dea147-71de-4207-cf43-3e271a2f0cf8"
      },
      "source": [
        "X_mean = np.mean(X)\n",
        "Y_mean = np.mean(Y)\n",
        "\n",
        "# Método dos Mínimos Quadrados\n",
        "m = sum((X - X_mean) * (Y - Y_mean)) / sum((X - X_mean) ** 2)\n",
        "c = Y_mean - m * X_mean\n",
        "\n",
        "print(f'slope: {m}, intercept: {c}')"
      ],
      "execution_count": null,
      "outputs": [
        {
          "output_type": "stream",
          "name": "stdout",
          "text": [
            "slope: 8.264906303236797, intercept: -31.38228279386712\n"
          ]
        }
      ]
    },
    {
      "cell_type": "code",
      "metadata": {
        "id": "D6J06vRXTcls"
      },
      "source": [
        "def gerar_grafico(theta_0 = -31.36, theta_1 = 8.26, title = 'Regressão linear - Método dos Mínimos Quadrados'):\n",
        "  df = pd.DataFrame()\n",
        "  df['x'] = [np.min(X), np.max(X)]\n",
        "  df['y'] = [(theta_1*np.min(X) + theta_0), theta_1*np.max(X) + theta_0]\n",
        "  \n",
        "  sns.lineplot(x='x', y='y', data=df, color='red')\n",
        "  plt.scatter(X, Y)\n",
        "\n",
        "  plt.title(title)\n",
        "  plt.ylabel('Valor médio em U$1,000')\n",
        "  plt.xlabel('Média de quartos por casa')\n",
        "\n",
        "  plt.show()"
      ],
      "execution_count": null,
      "outputs": []
    },
    {
      "cell_type": "code",
      "metadata": {
        "colab": {
          "base_uri": "https://localhost:8080/",
          "height": 301
        },
        "id": "BoW4LGOETxKH",
        "outputId": "c5144bd8-7324-43e9-cb72-7bc7b6692e40"
      },
      "source": [
        "gerar_grafico()"
      ],
      "execution_count": null,
      "outputs": [
        {
          "output_type": "display_data",
          "data": {
            "image/png": "[encoded data removed]",
            "text/plain": [
              "<Figure size 432x288 with 1 Axes>"
            ]
          },
          "metadata": {}
        }
      ]
    },
    {
      "cell_type": "code",
      "metadata": {
        "colab": {
          "base_uri": "https://localhost:8080/",
          "height": 301
        },
        "id": "H7fHXypxTyaA",
        "outputId": "9b92d7de-f3d1-4609-961a-53f7d5b3525b"
      },
      "source": [
        "gerar_grafico(0.0872, 1.51546, 'Regressão linear - GD Iteração 1')"
      ],
      "execution_count": null,
      "outputs": [
        {
          "output_type": "display_data",
          "data": {
            "image/png": "[encoded data removed]",
            "text/plain": [
              "<Figure size 432x288 with 1 Axes>"
            ]
          },
          "metadata": {}
        }
      ]
    },
    {
      "cell_type": "code",
      "metadata": {
        "colab": {
          "base_uri": "https://localhost:8080/",
          "height": 301
        },
        "id": "oTmfB2knUgXh",
        "outputId": "1463e475-1915-44a8-f6a9-1881e71b5b98"
      },
      "source": [
        "gerar_grafico(0.14506, 1.86158, 'Regressão linear - GD Iteração 2')"
      ],
      "execution_count": null,
      "outputs": [
        {
          "output_type": "display_data",
          "data": {
            "image/png": "[encoded data removed]",
            "text/plain": [
              "<Figure size 432x288 with 1 Axes>"
            ]
          },
          "metadata": {}
        }
      ]
    },
    {
      "cell_type": "code",
      "metadata": {
        "colab": {
          "base_uri": "https://localhost:8080/"
        },
        "id": "3ne4S5f05tQa",
        "outputId": "01b7b103-ffb1-4dc2-d661-2a32d8117b65"
      },
      "source": [
        "# Gradiente Descendente\n",
        "learning_rate = 0.01\n",
        "epochs = 2\n",
        "n = len(X)\n",
        "\n",
        "theta_0 = 0\n",
        "theta_1 = 1\n",
        "\n",
        "for i in range(epochs):\n",
        "  Y_pred = theta_1*X + theta_0\n",
        "  theta_0 = theta_0 - (learning_rate * ((1/n)*np.sum(Y_pred - Y)))\n",
        "  theta_1 = theta_1 - (learning_rate * ((1/n)*np.sum((Y_pred - Y) * X)))\n",
        "\n",
        "print(theta_0, theta_1)"
      ],
      "execution_count": null,
      "outputs": [
        {
          "output_type": "stream",
          "name": "stdout",
          "text": [
            "0.14507460800000002 1.8666232360000001\n"
          ]
        }
      ]
    },
    {
      "cell_type": "code",
      "metadata": {
        "colab": {
          "base_uri": "https://localhost:8080/",
          "height": 301
        },
        "id": "gfHC0eGdVKOy",
        "outputId": "896317fb-2839-46f6-acd5-533f0663c11c"
      },
      "source": [
        "gerar_grafico(-4.05, 3.39, 'Regressão linear - GD Iteração 1000')"
      ],
      "execution_count": null,
      "outputs": [
        {
          "output_type": "display_data",
          "data": {
            "image/png": "[encoded data removed]",
            "text/plain": [
              "<Figure size 432x288 with 1 Axes>"
            ]
          },
          "metadata": {}
        }
      ]
    },
    {
      "cell_type": "code",
      "metadata": {
        "colab": {
          "base_uri": "https://localhost:8080/"
        },
        "id": "2MRZMcsxf8OP",
        "outputId": "8fb0a76c-3458-40b6-cc75-d803773cf109"
      },
      "source": [
        "RSS = []\n",
        "\n",
        "m = 8.264906303236797\n",
        "c = [x for x in range(-32, 7)]\n",
        "\n",
        "for intercept in c:\n",
        "  Y_pred = m*X + intercept\n",
        "  sum_residuals = sum((Y - Y_pred) ** 2)\n",
        "  RSS.append(sum_residuals)\n",
        "\n",
        "for i in range(len(X)):\n",
        "  print(f'-2({Y[i]} - (intercept + 8.26 * {X[i]}) +')\n",
        "\n",
        "#RSS"
      ],
      "execution_count": null,
      "outputs": [
        {
          "output_type": "stream",
          "name": "stdout",
          "text": [
            "-2(9.8 - (intercept + 8.26 * 5.2) +\n",
            "-2(7.3 - (intercept + 8.26 * 4.5) +\n",
            "-2(13.3 - (intercept + 8.26 * 5.4) +\n",
            "-2(16.8 - (intercept + 8.26 * 6.0) +\n",
            "-2(24.0 - (intercept + 8.26 * 6.5) +\n"
          ]
        }
      ]
    },
    {
      "cell_type": "code",
      "metadata": {
        "colab": {
          "base_uri": "https://localhost:8080/"
        },
        "id": "H9fpYp0pgJBw",
        "outputId": "479b84f4-8cd6-46a7-f468-ec29c46bee50"
      },
      "source": [
        "RSS"
      ],
      "execution_count": null,
      "outputs": [
        {
          "output_type": "execute_result",
          "data": {
            "text/plain": [
              "[12.091101013149762,\n",
              " 10.913928951820962,\n",
              " 19.736756890492156,\n",
              " 38.559584829163356,\n",
              " 67.38241276783455,\n",
              " 106.20524070650575,\n",
              " 155.02806864517694,\n",
              " 213.85089658384817,\n",
              " 282.6737245225193,\n",
              " 361.49655246119056,\n",
              " 450.31938039986176,\n",
              " 549.1422083385329,\n",
              " 657.965036277204,\n",
              " 776.7878642158753,\n",
              " 905.6106921545464,\n",
              " 1044.4335200932178,\n",
              " 1193.2563480318888,\n",
              " 1352.0791759705598,\n",
              " 1520.902003909231,\n",
              " 1699.7248318479024,\n",
              " 1888.5476597865736,\n",
              " 2087.370487725245,\n",
              " 2296.193315663916,\n",
              " 2515.0161436025874,\n",
              " 2743.8389715412586,\n",
              " 2982.6617994799294,\n",
              " 3231.4846274186007,\n",
              " 3490.3074553572724,\n",
              " 3759.130283295943,\n",
              " 4037.953111234614,\n",
              " 4326.775939173285,\n",
              " 4625.5987671119565,\n",
              " 4934.421595050629,\n",
              " 5253.244422989299,\n",
              " 5582.067250927971,\n",
              " 5920.8900788666415,\n",
              " 6269.712906805313,\n",
              " 6628.535734743984,\n",
              " 6997.358562682656]"
            ]
          },
          "metadata": {},
          "execution_count": 106
        }
      ]
    },
    {
      "cell_type": "code",
      "metadata": {
        "colab": {
          "base_uri": "https://localhost:8080/"
        },
        "id": "2MU4VyJplmDO",
        "outputId": "f59eeaa6-2087-403a-b079-f9b9d07940db"
      },
      "source": [
        "for i in range(len(X)):\n",
        "  print(f'-2({Y[i]} - ({intercept} + 8.26 * {X[i]}) +')\n",
        "\n",
        "step_size = 1\n",
        "learning_rate = 0.01\n",
        "intercept = 0\n",
        "slope = 8.26\n",
        "\n",
        "while step_size >= 0.001:\n",
        "  slope_curve_func = sum( -2*(Y - (intercept + slope * X)) )\n",
        "  #print(f'Derivada da curva: {slope_curve_func}')\n",
        "\n",
        "  step_size = slope_curve_func * learning_rate # para quando estiver perto de 0\n",
        "  intercept = intercept - step_size\n",
        "\n",
        "  #print(f'step size: {step_size}')\n",
        "  #print(f'new intercept: {intercept}')\n",
        "  #print()\n",
        "intercept"
      ],
      "execution_count": null,
      "outputs": [
        {
          "output_type": "stream",
          "name": "stdout",
          "text": [
            "-2(9.8 - (-31.346742825112383 + 8.26 * 5.2) +\n",
            "-2(7.3 - (-31.346742825112383 + 8.26 * 4.5) +\n",
            "-2(13.3 - (-31.346742825112383 + 8.26 * 5.4) +\n",
            "-2(16.8 - (-31.346742825112383 + 8.26 * 6.0) +\n",
            "-2(24.0 - (-31.346742825112383 + 8.26 * 6.5) +\n"
          ]
        },
        {
          "output_type": "execute_result",
          "data": {
            "text/plain": [
              "-31.346742825112383"
            ]
          },
          "metadata": {},
          "execution_count": 108
        }
      ]
    },
    {
      "cell_type": "code",
      "metadata": {
        "id": "VjQwlW86g2v_"
      },
      "source": [
        ""
      ],
      "execution_count": null,
      "outputs": []
    },
    {
      "cell_type": "markdown",
      "metadata": {
        "id": "Vl_rZzz4SVyv"
      },
      "source": [
        "# Modelos"
      ]
    },
    {
      "cell_type": "code",
      "metadata": {
        "colab": {
          "base_uri": "https://localhost:8080/"
        },
        "id": "6RSTtf8xklrI",
        "outputId": "792790b1-39fc-4421-8fe4-ae242e1762ac"
      },
      "source": [
        "# Building the model\n",
        "m = 1\n",
        "c = 0\n",
        "\n",
        "L = 0.01  # The learning Rate\n",
        "epochs = 2  # The number of iterations to perform gradient descent\n",
        "\n",
        "n = float(len(X)) # Number of elements in X\n",
        "\n",
        "# Performing Gradient Descent \n",
        "for i in range(epochs):\n",
        "#while (D_m <= -0.001 or D_m >= 0.001) or (D_c <= -0.001 or D_c >= 0.001):\n",
        "    Y_pred = m*X + c  # The current predicted value of Y\n",
        "    D_m = (-2/n) * sum(X * (Y - Y_pred))  # Derivative wrt m\n",
        "    D_c = (-2/n) * sum(Y - Y_pred)  # Derivative wrt c\n",
        "    m = m - L * D_m  # Update m\n",
        "    c = c - L * D_c  # Update c\n",
        "    #mse = (1/n) * sum((X * (Y - Y_pred)) ** 2)\n",
        "    #print(f'm: {m}, mse: {mse}')\n",
        "    \n",
        "print(m, c)"
      ],
      "execution_count": null,
      "outputs": [
        {
          "output_type": "stream",
          "name": "stdout",
          "text": [
            "2.404652944 0.23149843200000003\n"
          ]
        }
      ]
    },
    {
      "cell_type": "code",
      "metadata": {
        "colab": {
          "base_uri": "https://localhost:8080/",
          "height": 537
        },
        "id": "S4lhm_unkmpp",
        "outputId": "786c7c0a-85eb-4258-cc6b-ed72e353d8ad"
      },
      "source": [
        "# Making predictions\n",
        "Y_pred = m*X + c\n",
        "\n",
        "plt.scatter(X, Y) \n",
        "plt.plot([min(X), max(X)], [min(Y_pred), max(Y_pred)], color='red')  # regression line\n",
        "plt.show()"
      ],
      "execution_count": null,
      "outputs": [
        {
          "output_type": "display_data",
          "data": {
            "image/png": "[encoded data removed]",
            "text/plain": [
              "<Figure size 864x648 with 1 Axes>"
            ]
          },
          "metadata": {
            "needs_background": "light"
          }
        }
      ]
    },
    {
      "cell_type": "code",
      "metadata": {
        "colab": {
          "base_uri": "https://localhost:8080/"
        },
        "id": "UPR1CLNUq0AF",
        "outputId": "9e8802a8-f5ff-4e57-b1a0-0d7135e093ed"
      },
      "source": [
        "# Building the model\n",
        "X_mean = np.mean(X)\n",
        "Y_mean = np.mean(Y)\n",
        "\n",
        "num = 0\n",
        "den = 0\n",
        "for i in range(len(X)):\n",
        "    num += (X[i] - X_mean)*(Y[i] - Y_mean)\n",
        "    den += (X[i] - X_mean)**2\n",
        "m = num / den\n",
        "c = Y_mean - m*X_mean\n",
        "\n",
        "print (m, c)"
      ],
      "execution_count": null,
      "outputs": [
        {
          "output_type": "stream",
          "name": "stdout",
          "text": [
            "8.264906303236797 -31.38228279386712\n"
          ]
        }
      ]
    },
    {
      "cell_type": "code",
      "metadata": {
        "colab": {
          "base_uri": "https://localhost:8080/",
          "height": 537
        },
        "id": "Hz4jdpFwq6Lz",
        "outputId": "b14f2db7-ce55-4b94-8521-8686de948f1a"
      },
      "source": [
        "# Making predictions\n",
        "Y_pred = m*X + c\n",
        "\n",
        "plt.scatter(X, Y) # actual\n",
        "# plt.scatter(X, Y_pred, color='red')\n",
        "plt.plot([min(X), max(X)], [min(Y_pred), max(Y_pred)], color='red') # predicted\n",
        "plt.show()"
      ],
      "execution_count": null,
      "outputs": [
        {
          "output_type": "display_data",
          "data": {
            "image/png": "[encoded data removed]",
            "text/plain": [
              "<Figure size 864x648 with 1 Axes>"
            ]
          },
          "metadata": {
            "needs_background": "light"
          }
        }
      ]
    },
    {
      "cell_type": "code",
      "metadata": {
        "id": "ghPjOGm4n6ES"
      },
      "source": [
        "def linear_regression(X, y, m_current=0, b_current=0, epochs=1000, learning_rate=0.0001):\n",
        "     N = float(len(y))\n",
        "     for i in range(epochs):\n",
        "          y_current = (m_current * X) + b_current\n",
        "          cost = sum([data**2 for data in (y-y_current)]) / N\n",
        "          m_gradient = -(1/N) * sum(X * (y - y_current))\n",
        "          b_gradient = -(1/N) * sum(y - y_current)\n",
        "          m_current = m_current - (learning_rate * m_gradient)\n",
        "          b_current = b_current - (learning_rate * b_gradient)\n",
        "     return m_current, b_current, cost"
      ],
      "execution_count": null,
      "outputs": []
    },
    {
      "cell_type": "code",
      "metadata": {
        "colab": {
          "base_uri": "https://localhost:8080/"
        },
        "id": "0AYo6GO7n9ni",
        "outputId": "c0270881-9471-47b6-fa74-ae4bf9c45744"
      },
      "source": [
        "linear_regression(X, Y, m_current=1, b_current=0, epochs=1, learning_rate=0.01)"
      ],
      "execution_count": null,
      "outputs": [
        {
          "output_type": "execute_result",
          "data": {
            "text/plain": [
              "(1.51546, 0.08720000000000001, 102.85999999999999)"
            ]
          },
          "metadata": {},
          "execution_count": 20
        }
      ]
    },
    {
      "cell_type": "code",
      "metadata": {
        "id": "_INyo2_ikqOw"
      },
      "source": [
        "from sklearn.linear_model import LinearRegression\n",
        "\n",
        "linear_reg = LinearRegression()"
      ],
      "execution_count": null,
      "outputs": []
    },
    {
      "cell_type": "code",
      "metadata": {
        "colab": {
          "base_uri": "https://localhost:8080/"
        },
        "id": "J-ICYN2xk43l",
        "outputId": "2a1e7cca-fa6a-45f4-c38b-06673cae93ba"
      },
      "source": [
        "X = np.array(X).reshape(-1, 1)\n",
        "X"
      ],
      "execution_count": null,
      "outputs": [
        {
          "output_type": "execute_result",
          "data": {
            "text/plain": [
              "array([[5.2],\n",
              "       [4.5],\n",
              "       [5.4],\n",
              "       [6. ],\n",
              "       [6.5]])"
            ]
          },
          "metadata": {},
          "execution_count": 26
        }
      ]
    },
    {
      "cell_type": "code",
      "metadata": {
        "colab": {
          "base_uri": "https://localhost:8080/"
        },
        "id": "N_D-F4Jjk75w",
        "outputId": "84928480-b29f-46d4-dc06-ad1c68bb1160"
      },
      "source": [
        "Y = np.array(Y).reshape(-1, 1)\n",
        "Y"
      ],
      "execution_count": null,
      "outputs": [
        {
          "output_type": "execute_result",
          "data": {
            "text/plain": [
              "array([[ 9.8],\n",
              "       [ 7.3],\n",
              "       [13.3],\n",
              "       [16.8],\n",
              "       [24. ]])"
            ]
          },
          "metadata": {},
          "execution_count": 27
        }
      ]
    },
    {
      "cell_type": "code",
      "metadata": {
        "colab": {
          "base_uri": "https://localhost:8080/"
        },
        "id": "jYgp-Jkck8bn",
        "outputId": "cd66bed6-44d5-439b-93c4-b8b9fbe9a41b"
      },
      "source": [
        "linear_reg.fit(X, Y)"
      ],
      "execution_count": null,
      "outputs": [
        {
          "output_type": "execute_result",
          "data": {
            "text/plain": [
              "LinearRegression(copy_X=True, fit_intercept=True, n_jobs=None, normalize=False)"
            ]
          },
          "metadata": {},
          "execution_count": 23
        }
      ]
    },
    {
      "cell_type": "code",
      "metadata": {
        "colab": {
          "base_uri": "https://localhost:8080/"
        },
        "id": "f8z7sAR0lMFe",
        "outputId": "90ae4087-b20f-4674-c92f-615b5ecc69c9"
      },
      "source": [
        "linear_reg.score(X, Y)"
      ],
      "execution_count": null,
      "outputs": [
        {
          "output_type": "execute_result",
          "data": {
            "text/plain": [
              "0.9402995316969567"
            ]
          },
          "metadata": {},
          "execution_count": 28
        }
      ]
    },
    {
      "cell_type": "code",
      "metadata": {
        "colab": {
          "base_uri": "https://localhost:8080/"
        },
        "id": "YKZvvw-OmUX-",
        "outputId": "0e8602f6-7d65-4c82-faf3-d7c9f799c127"
      },
      "source": [
        "linear_reg.coef_"
      ],
      "execution_count": null,
      "outputs": [
        {
          "output_type": "execute_result",
          "data": {
            "text/plain": [
              "array([[8.2649063]])"
            ]
          },
          "metadata": {},
          "execution_count": 30
        }
      ]
    },
    {
      "cell_type": "code",
      "metadata": {
        "colab": {
          "base_uri": "https://localhost:8080/"
        },
        "id": "k6Mz5caamWb_",
        "outputId": "02727409-5116-46f0-f598-d8daa805783e"
      },
      "source": [
        "linear_reg.intercept_"
      ],
      "execution_count": null,
      "outputs": [
        {
          "output_type": "execute_result",
          "data": {
            "text/plain": [
              "array([-31.38228279])"
            ]
          },
          "metadata": {},
          "execution_count": 31
        }
      ]
    }
  ]
}